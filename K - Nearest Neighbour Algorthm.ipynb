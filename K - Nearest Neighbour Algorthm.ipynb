{
 "cells": [
  {
   "cell_type": "code",
   "execution_count": 5,
   "id": "4c1847d3",
   "metadata": {},
   "outputs": [],
   "source": [
    "import numpy as np\n",
    "import matplotlib.pyplot as plt\n",
    "import pandas as pd\n",
    "from sklearn import datasets\n",
    "iris = datasets.load_iris()\n",
    "data = iris.data\n",
    "target = iris.target"
   ]
  },
  {
   "cell_type": "code",
   "execution_count": 6,
   "id": "c5b7b8e9",
   "metadata": {},
   "outputs": [
    {
     "name": "stdout",
     "output_type": "stream",
     "text": [
      ".. _iris_dataset:\n",
      "\n",
      "Iris plants dataset\n",
      "--------------------\n",
      "\n",
      "**Data Set Characteristics:**\n",
      "\n",
      "    :Number of Instances: 150 (50 in each of three classes)\n",
      "    :Number of Attributes: 4 numeric, predictive attributes and the class\n",
      "    :Attribute Information:\n",
      "        - sepal length in cm\n",
      "        - sepal width in cm\n",
      "        - petal length in cm\n",
      "        - petal width in cm\n",
      "        - class:\n",
      "                - Iris-Setosa\n",
      "                - Iris-Versicolour\n",
      "                - Iris-Virginica\n",
      "                \n",
      "    :Summary Statistics:\n",
      "\n",
      "    ============== ==== ==== ======= ===== ====================\n",
      "                    Min  Max   Mean    SD   Class Correlation\n",
      "    ============== ==== ==== ======= ===== ====================\n",
      "    sepal length:   4.3  7.9   5.84   0.83    0.7826\n",
      "    sepal width:    2.0  4.4   3.05   0.43   -0.4194\n",
      "    petal length:   1.0  6.9   3.76   1.76    0.9490  (high!)\n",
      "    petal width:    0.1  2.5   1.20   0.76    0.9565  (high!)\n",
      "    ============== ==== ==== ======= ===== ====================\n",
      "\n",
      "    :Missing Attribute Values: None\n",
      "    :Class Distribution: 33.3% for each of 3 classes.\n",
      "    :Creator: R.A. Fisher\n",
      "    :Donor: Michael Marshall (MARSHALL%PLU@io.arc.nasa.gov)\n",
      "    :Date: July, 1988\n",
      "\n",
      "The famous Iris database, first used by Sir R.A. Fisher. The dataset is taken\n",
      "from Fisher's paper. Note that it's the same as in R, but not as in the UCI\n",
      "Machine Learning Repository, which has two wrong data points.\n",
      "\n",
      "This is perhaps the best known database to be found in the\n",
      "pattern recognition literature.  Fisher's paper is a classic in the field and\n",
      "is referenced frequently to this day.  (See Duda & Hart, for example.)  The\n",
      "data set contains 3 classes of 50 instances each, where each class refers to a\n",
      "type of iris plant.  One class is linearly separable from the other 2; the\n",
      "latter are NOT linearly separable from each other.\n",
      "\n",
      ".. topic:: References\n",
      "\n",
      "   - Fisher, R.A. \"The use of multiple measurements in taxonomic problems\"\n",
      "     Annual Eugenics, 7, Part II, 179-188 (1936); also in \"Contributions to\n",
      "     Mathematical Statistics\" (John Wiley, NY, 1950).\n",
      "   - Duda, R.O., & Hart, P.E. (1973) Pattern Classification and Scene Analysis.\n",
      "     (Q327.D83) John Wiley & Sons.  ISBN 0-471-22361-1.  See page 218.\n",
      "   - Dasarathy, B.V. (1980) \"Nosing Around the Neighborhood: A New System\n",
      "     Structure and Classification Rule for Recognition in Partially Exposed\n",
      "     Environments\".  IEEE Transactions on Pattern Analysis and Machine\n",
      "     Intelligence, Vol. PAMI-2, No. 1, 67-71.\n",
      "   - Gates, G.W. (1972) \"The Reduced Nearest Neighbor Rule\".  IEEE Transactions\n",
      "     on Information Theory, May 1972, 431-433.\n",
      "   - See also: 1988 MLC Proceedings, 54-64.  Cheeseman et al\"s AUTOCLASS II\n",
      "     conceptual clustering system finds 3 classes in the data.\n",
      "   - Many, many more ...\n"
     ]
    }
   ],
   "source": [
    "print(iris.DESCR)"
   ]
  },
  {
   "cell_type": "code",
   "execution_count": 7,
   "id": "5878b3b4",
   "metadata": {},
   "outputs": [
    {
     "name": "stdout",
     "output_type": "stream",
     "text": [
      "(150, 4)\n",
      "Training Set 120\n",
      "Test Set 30\n"
     ]
    }
   ],
   "source": [
    "from sklearn.model_selection import train_test_split\n",
    "data_train, data_test, target_train, target_test = train_test_split(data, target, test_size=0.20, random_state=25)\n",
    "print(iris.data.shape)\n",
    "print('Training Set', len(data_train))\n",
    "print('Test Set', len(data_test))"
   ]
  },
  {
   "cell_type": "code",
   "execution_count": 8,
   "id": "06bf655e",
   "metadata": {},
   "outputs": [
    {
     "name": "stdout",
     "output_type": "stream",
     "text": [
      "[0 2 2 1 2 1 2 0 1 1 0 0 0 2 0 1 2 2 1 1 1 1 1 0 0 2 1 2 2 0]\n"
     ]
    }
   ],
   "source": [
    "from sklearn.neighbors import KNeighborsClassifier\n",
    "KNN = KNeighborsClassifier(n_neighbors=3)\n",
    "KNN.fit(data_train,target_train)\n",
    "target_pred = KNN.predict(data_test)\n",
    "print(target_pred)"
   ]
  },
  {
   "cell_type": "code",
   "execution_count": 9,
   "id": "484d00d5",
   "metadata": {},
   "outputs": [
    {
     "name": "stdout",
     "output_type": "stream",
     "text": [
      "Accuracy =  0.9333333333333333\n",
      "[[ 9  0  0]\n",
      " [ 0 11  2]\n",
      " [ 0  0  8]]\n",
      "              precision    recall  f1-score   support\n",
      "\n",
      "           0       1.00      1.00      1.00         9\n",
      "           1       1.00      0.85      0.92        13\n",
      "           2       0.80      1.00      0.89         8\n",
      "\n",
      "    accuracy                           0.93        30\n",
      "   macro avg       0.93      0.95      0.94        30\n",
      "weighted avg       0.95      0.93      0.93        30\n",
      "\n"
     ]
    }
   ],
   "source": [
    "from sklearn import metrics\n",
    "print(\"Accuracy = \", metrics.accuracy_score(target_pred, target_test))\n",
    "from sklearn.metrics import classification_report, confusion_matrix\n",
    "print(confusion_matrix(target_test,target_pred))\n",
    "print(classification_report(target_test,target_pred))"
   ]
  },
  {
   "cell_type": "code",
   "execution_count": 10,
   "id": "d244d1a8",
   "metadata": {},
   "outputs": [
    {
     "name": "stdout",
     "output_type": "stream",
     "text": [
      "\t Predicted \t\tActual \t\t\tAnswer\n",
      "0 : setosa \t\t setosa \t\t\tYes\n",
      "1 : virginica \t\t versicolor \t\t\tNo\n",
      "2 : virginica \t\t versicolor \t\t\tNo\n",
      "3 : versicolor \t\t versicolor \t\t\tYes\n",
      "4 : virginica \t\t virginica \t\t\tYes\n",
      "5 : versicolor \t\t versicolor \t\t\tYes\n",
      "6 : virginica \t\t virginica \t\t\tYes\n",
      "7 : setosa \t\t setosa \t\t\tYes\n",
      "8 : versicolor \t\t versicolor \t\t\tYes\n",
      "9 : versicolor \t\t versicolor \t\t\tYes\n",
      "10 : setosa \t\t setosa \t\t\tYes\n",
      "11 : setosa \t\t setosa \t\t\tYes\n",
      "12 : setosa \t\t setosa \t\t\tYes\n",
      "13 : virginica \t\t virginica \t\t\tYes\n",
      "14 : setosa \t\t setosa \t\t\tYes\n",
      "15 : versicolor \t\t versicolor \t\t\tYes\n",
      "16 : virginica \t\t virginica \t\t\tYes\n",
      "17 : virginica \t\t virginica \t\t\tYes\n",
      "18 : versicolor \t\t versicolor \t\t\tYes\n",
      "19 : versicolor \t\t versicolor \t\t\tYes\n",
      "20 : versicolor \t\t versicolor \t\t\tYes\n",
      "21 : versicolor \t\t versicolor \t\t\tYes\n",
      "22 : versicolor \t\t versicolor \t\t\tYes\n",
      "23 : setosa \t\t setosa \t\t\tYes\n",
      "24 : setosa \t\t setosa \t\t\tYes\n",
      "25 : virginica \t\t virginica \t\t\tYes\n",
      "26 : versicolor \t\t versicolor \t\t\tYes\n",
      "27 : virginica \t\t virginica \t\t\tYes\n",
      "28 : virginica \t\t virginica \t\t\tYes\n",
      "29 : setosa \t\t setosa \t\t\tYes\n"
     ]
    }
   ],
   "source": [
    "predicted=KNN.predict(data_test)\n",
    "predictedTargetArray=[iris.target_names[i] for i in predicted]\n",
    "actualTargetArray=[iris.target_names[i] for i in target_test]\n",
    "print(\"\\t Predicted\",\"\\t\\tActual\",\"\\t\\t\\tAnswer\")\n",
    "for itr in range(0,len(predictedTargetArray)):\n",
    "    print(itr,\":\",predictedTargetArray[itr],\"\\t\\t\",actualTargetArray[itr],\"\\t\\t\",end='\\t')\n",
    "    if(predictedTargetArray[itr]==actualTargetArray[itr]):\n",
    "        print(\"Yes\")\n",
    "    else:\n",
    "        print(\"No\")"
   ]
  },
  {
   "cell_type": "code",
   "execution_count": null,
   "id": "61c58ab4",
   "metadata": {},
   "outputs": [],
   "source": []
  }
 ],
 "metadata": {
  "kernelspec": {
   "display_name": "Python 3",
   "language": "python",
   "name": "python3"
  },
  "language_info": {
   "codemirror_mode": {
    "name": "ipython",
    "version": 3
   },
   "file_extension": ".py",
   "mimetype": "text/x-python",
   "name": "python",
   "nbconvert_exporter": "python",
   "pygments_lexer": "ipython3",
   "version": "3.9.6"
  },
  "vscode": {
   "interpreter": {
    "hash": "31f2aee4e71d21fbe5cf8b01ff0e069b9275f58929596ceb00d14d90e3e16cd6"
   }
  }
 },
 "nbformat": 4,
 "nbformat_minor": 5
}
