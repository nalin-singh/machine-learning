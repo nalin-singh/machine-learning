{
 "cells": [
  {
   "cell_type": "code",
   "execution_count": 1,
   "id": "c7b362ab",
   "metadata": {},
   "outputs": [
    {
     "data": {
      "text/plain": [
       "47"
      ]
     },
     "execution_count": 1,
     "metadata": {},
     "output_type": "execute_result"
    }
   ],
   "source": [
    "#Implement the non-parametric locally weighted regression algorithm in order to fit data points. Select appropriate dataset for your experiment and draw a graph.\n",
    "#Regression is defined as statistical method that helps us to analyze and understand the relationship between two or more variables of interest\n",
    "import pandas as pd\n",
    "import numpy as np\n",
    "import matplotlib.pyplot as plt\n",
    "from sklearn.model_selection import train_test_split\n",
    "\n",
    "tou = 0.8 #Smoothening parameter\n",
    "\n",
    "x_train = np.array(list(range(5,50)) + [7.2,9.2])\n",
    "x_train\n",
    "len(x_train)"
   ]
  },
  {
   "cell_type": "code",
   "execution_count": 2,
   "id": "f95b3227",
   "metadata": {},
   "outputs": [
    {
     "data": {
      "text/plain": [
       "array([[ 5. ],\n",
       "       [ 6. ],\n",
       "       [ 7. ],\n",
       "       [ 8. ],\n",
       "       [ 9. ],\n",
       "       [10. ],\n",
       "       [11. ],\n",
       "       [12. ],\n",
       "       [13. ],\n",
       "       [14. ],\n",
       "       [15. ],\n",
       "       [16. ],\n",
       "       [17. ],\n",
       "       [18. ],\n",
       "       [19. ],\n",
       "       [20. ],\n",
       "       [21. ],\n",
       "       [22. ],\n",
       "       [23. ],\n",
       "       [24. ],\n",
       "       [25. ],\n",
       "       [26. ],\n",
       "       [27. ],\n",
       "       [28. ],\n",
       "       [29. ],\n",
       "       [30. ],\n",
       "       [31. ],\n",
       "       [32. ],\n",
       "       [33. ],\n",
       "       [34. ],\n",
       "       [35. ],\n",
       "       [36. ],\n",
       "       [37. ],\n",
       "       [38. ],\n",
       "       [39. ],\n",
       "       [40. ],\n",
       "       [41. ],\n",
       "       [42. ],\n",
       "       [43. ],\n",
       "       [44. ],\n",
       "       [45. ],\n",
       "       [46. ],\n",
       "       [47. ],\n",
       "       [48. ],\n",
       "       [49. ],\n",
       "       [ 7.2],\n",
       "       [ 9.2]])"
      ]
     },
     "execution_count": 2,
     "metadata": {},
     "output_type": "execute_result"
    }
   ],
   "source": [
    "x_train = x_train[:,np.newaxis] #numpy.newaxis makes the array into multiarray 1D to 2D\n",
    "x_train"
   ]
  },
  {
   "cell_type": "code",
   "execution_count": 3,
   "id": "f40ca6e5",
   "metadata": {},
   "outputs": [
    {
     "name": "stdout",
     "output_type": "stream",
     "text": [
      "47\n",
      "400\n"
     ]
    }
   ],
   "source": [
    "y_train = np.array([1,2,1,2,1,1,3,4,5,6,1,5,12,23,65,7,8,10,8,29,24,12,14,12,10,9,7,10,24,50,19,20,30,12,24,35,12,80,20,30,12,23,23,45,23,12,12])\n",
    "print(len(y_train))\n",
    "x_test = np.array([i/10. for i in range(400)])\n",
    "x_test = x_test[:,np.newaxis]\n",
    "print(len(x_test))\n"
   ]
  },
  {
   "cell_type": "code",
   "execution_count": 4,
   "id": "2e388552",
   "metadata": {},
   "outputs": [
    {
     "name": "stdout",
     "output_type": "stream",
     "text": [
      "400\n"
     ]
    },
    {
     "data": {
      "image/png": "[encoded data removed]",
      "text/plain": [
       "<Figure size 640x480 with 1 Axes>"
      ]
     },
     "metadata": {},
     "output_type": "display_data"
    }
   ],
   "source": [
    "count = 0\n",
    "y_test = []\n",
    "for r in range(len(x_test)):\n",
    "    try:\n",
    "        wt = np.exp(-np.sum((x_train-x_test[r])**2,axis=1)/(2*tou)**2)\n",
    "        w = np.diag(wt)\n",
    "        fact1 = np.linalg.inv(x_train.T.dot(w).dot(x_train))\n",
    "        parameter = fact1.dot(x_train.T).dot(w).dot(y_train)\n",
    "        prediction = x_test[r].dot(parameter)\n",
    "        y_test.append(prediction)\n",
    "    except:\n",
    "        pass\n",
    "y_test = np.array(y_test)\n",
    "print(len(y_test))\n",
    "plt.plot(x_train.squeeze(),y_train,'o')\n",
    "plt.plot(x_test.squeeze(),y_test,'*')\n",
    "plt.show()"
   ]
  }
 ],
 "metadata": {
  "kernelspec": {
   "display_name": "Python 3",
   "language": "python",
   "name": "python3"
  },
  "language_info": {
   "codemirror_mode": {
    "name": "ipython",
    "version": 3
   },
   "file_extension": ".py",
   "mimetype": "text/x-python",
   "name": "python",
   "nbconvert_exporter": "python",
   "pygments_lexer": "ipython3",
   "version": "3.9.6"
  },
  "vscode": {
   "interpreter": {
    "hash": "31f2aee4e71d21fbe5cf8b01ff0e069b9275f58929596ceb00d14d90e3e16cd6"
   }
  }
 },
 "nbformat": 4,
 "nbformat_minor": 5
}
