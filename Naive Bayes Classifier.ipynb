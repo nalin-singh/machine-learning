{
 "cells": [
  {
   "cell_type": "code",
   "execution_count": 91,
   "metadata": {},
   "outputs": [
    {
     "name": "stdout",
     "output_type": "stream",
     "text": [
      "     Pregnancies  Glucose  BloodPressure  SkinThickness  Insulin   BMI  \\\n",
      "173          1.0     79.0           60.0           42.0     48.0  43.5   \n",
      "253          0.0     86.0           68.0           32.0      0.0  35.8   \n",
      "207          5.0    162.0          104.0            0.0      0.0  37.7   \n",
      "737          8.0     65.0           72.0           23.0      0.0  32.0   \n",
      "191          9.0    123.0           70.0           44.0     94.0  33.1   \n",
      "..           ...      ...            ...            ...      ...   ...   \n",
      "401          6.0    137.0           61.0            0.0      0.0  24.2   \n",
      "82           7.0     83.0           78.0           26.0     71.0  29.3   \n",
      "650          1.0     91.0           54.0           25.0    100.0  25.2   \n",
      "721          1.0    114.0           66.0           36.0    200.0  38.1   \n",
      "74           1.0     79.0           75.0           30.0      0.0  32.0   \n",
      "\n",
      "     DiabetesPedigreeFunction   Age  Outcome  \n",
      "173                     0.678  23.0      0.0  \n",
      "253                     0.238  25.0      0.0  \n",
      "207                     0.151  52.0      1.0  \n",
      "737                     0.600  42.0      0.0  \n",
      "191                     0.374  40.0      0.0  \n",
      "..                        ...   ...      ...  \n",
      "401                     0.151  55.0      0.0  \n",
      "82                      0.767  36.0      0.0  \n",
      "650                     0.234  23.0      0.0  \n",
      "721                     0.289  21.0      0.0  \n",
      "74                      0.396  22.0      0.0  \n",
      "\n",
      "[614 rows x 9 columns]\n",
      "     Pregnancies  Glucose  BloodPressure  SkinThickness  Insulin   BMI  \\\n",
      "0            6.0    148.0           72.0           35.0      0.0  33.6   \n",
      "2            8.0    183.0           64.0            0.0      0.0  23.3   \n",
      "4            0.0    137.0           40.0           35.0    168.0  43.1   \n",
      "13           1.0    189.0           60.0           23.0    846.0  30.1   \n",
      "14           5.0    166.0           72.0           19.0    175.0  25.8   \n",
      "..           ...      ...            ...            ...      ...   ...   \n",
      "733          2.0    106.0           56.0           27.0    165.0  29.0   \n",
      "738          2.0     99.0           60.0           17.0    160.0  36.6   \n",
      "752          3.0    108.0           62.0           24.0      0.0  26.0   \n",
      "763         10.0    101.0           76.0           48.0    180.0  32.9   \n",
      "764          2.0    122.0           70.0           27.0      0.0  36.8   \n",
      "\n",
      "     DiabetesPedigreeFunction   Age  Outcome  \n",
      "0                       0.627  50.0      1.0  \n",
      "2                       0.672  32.0      1.0  \n",
      "4                       2.288  33.0      1.0  \n",
      "13                      0.398  59.0      1.0  \n",
      "14                      0.587  51.0      1.0  \n",
      "..                        ...   ...      ...  \n",
      "733                     0.426  22.0      0.0  \n",
      "738                     0.453  21.0      0.0  \n",
      "752                     0.223  25.0      0.0  \n",
      "763                     0.171  63.0      0.0  \n",
      "764                     0.340  27.0      0.0  \n",
      "\n",
      "[154 rows x 9 columns]\n"
     ]
    }
   ],
   "source": [
    "import pandas as pd\n",
    "import numpy as np\n",
    "\n",
    "dataframe = pd.read_csv(\"datasets/diabetes.csv\")\n",
    "dataframe = dataframe.astype(float)\n",
    "trainData = dataframe.sample(frac=0.8, random_state=100)\n",
    "testData = dataframe.drop(trainData.index)\n",
    "\n",
    "print(trainData)\n",
    "print(testData)"
   ]
  },
  {
   "cell_type": "code",
   "execution_count": 92,
   "metadata": {},
   "outputs": [],
   "source": [
    "outcome = trainData.groupby(dataframe.columns[-1]) # get the last column\n",
    "attrCount = len(dataframe.columns)-1\n",
    "\n",
    "summaries = {}\n",
    "for classValue, instances in outcome:\n",
    "    attrMeanStd = []\n",
    "    mean = list(instances.mean(axis=0).values)\n",
    "    std = list(instances.std(axis=0).values)\n",
    "    for itr in range(attrCount):\n",
    "        attrMeanStd.append({mean[itr],std[itr]})\n",
    "    summaries[classValue] = attrMeanStd"
   ]
  },
  {
   "cell_type": "code",
   "execution_count": 93,
   "metadata": {},
   "outputs": [],
   "source": [
    "import math\n",
    "def calculateProb(data,mean,std):\n",
    "    exponent = math.exp(-math.pow(data-mean,2)/2*math.pow(std,2))\n",
    "    return (1/(math.sqrt(2*math.pi*math.pow(std,2))))*exponent"
   ]
  },
  {
   "cell_type": "code",
   "execution_count": 94,
   "metadata": {},
   "outputs": [],
   "source": [
    "def calculateClassProb(summaries,testData):\n",
    "    probabilites={}\n",
    "    for classValue,classSummaries in summaries.items():\n",
    "        probabilites[classValue]=1\n",
    "        for itr in range(len(classSummaries)):\n",
    "            mean,std = classSummaries[itr]\n",
    "            data = testData[itr]\n",
    "            probabilites[classValue]*=calculateProb(data,mean,std)\n",
    "    return probabilites      "
   ]
  },
  {
   "cell_type": "code",
   "execution_count": 102,
   "metadata": {},
   "outputs": [],
   "source": [
    "def predict(summaries,testData):\n",
    "    probabilities = calculateClassProb(summaries,testData)\n",
    "    bestLabel, bestProbability = None, -1\n",
    "    for classValue, probability in probabilities.items():\n",
    "        if bestLabel is None or probability>bestProbability:\n",
    "            bestLabel = classValue\n",
    "            bestProbability = probability\n",
    "    return bestProbability\n",
    "\n",
    "predictions = []\n",
    "testingData = testData.values.tolist()\n",
    "for itr in range(len(testingData)):\n",
    "    result = predict(summaries,testingData[itr])\n",
    "    predictions.append(result)"
   ]
  },
  {
   "cell_type": "code",
   "execution_count": 105,
   "metadata": {},
   "outputs": [
    {
     "name": "stdout",
     "output_type": "stream",
     "text": [
      "Accuracy :  65.5844155844156\n"
     ]
    }
   ],
   "source": [
    "def getAccuracy(testData,predictions):\n",
    "    correct = 0\n",
    "    for itr in range(len(testData)):\n",
    "        if testData[itr][attrCount] == predictions[itr]:\n",
    "            correct+=1\n",
    "    return (correct/float(len(testData)))*100\n",
    "\n",
    "accuracy = getAccuracy(testingData,predictions)\n",
    "print(\"Accuracy : \",accuracy)"
   ]
  }
 ],
 "metadata": {
  "kernelspec": {
   "display_name": "Python 3",
   "language": "python",
   "name": "python3"
  },
  "language_info": {
   "codemirror_mode": {
    "name": "ipython",
    "version": 3
   },
   "file_extension": ".py",
   "mimetype": "text/x-python",
   "name": "python",
   "nbconvert_exporter": "python",
   "pygments_lexer": "ipython3",
   "version": "3.9.6"
  },
  "orig_nbformat": 4,
  "vscode": {
   "interpreter": {
    "hash": "31f2aee4e71d21fbe5cf8b01ff0e069b9275f58929596ceb00d14d90e3e16cd6"
   }
  }
 },
 "nbformat": 4,
 "nbformat_minor": 2
}
