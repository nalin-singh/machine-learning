{
 "cells": [
  {
   "cell_type": "code",
   "execution_count": 6,
   "id": "c7b362ab",
   "metadata": {},
   "outputs": [
    {
     "ename": "ModuleNotFoundError",
     "evalue": "No module named 'matplotlib'",
     "output_type": "error",
     "traceback": [
      "\u001b[0;31m---------------------------------------------------------------------------\u001b[0m",
      "\u001b[0;31mModuleNotFoundError\u001b[0m                       Traceback (most recent call last)",
      "\u001b[0;32m/var/folders/kl/d81pg6jx2pg8bt540z2y7vq40000gn/T/ipykernel_37910/874686564.py\u001b[0m in \u001b[0;36m<module>\u001b[0;34m\u001b[0m\n\u001b[1;32m      3\u001b[0m \u001b[0;32mimport\u001b[0m \u001b[0mpandas\u001b[0m \u001b[0;32mas\u001b[0m \u001b[0mpd\u001b[0m\u001b[0;34m\u001b[0m\u001b[0;34m\u001b[0m\u001b[0m\n\u001b[1;32m      4\u001b[0m \u001b[0;32mimport\u001b[0m \u001b[0mnumpy\u001b[0m \u001b[0;32mas\u001b[0m \u001b[0mnp\u001b[0m\u001b[0;34m\u001b[0m\u001b[0;34m\u001b[0m\u001b[0m\n\u001b[0;32m----> 5\u001b[0;31m \u001b[0;32mimport\u001b[0m \u001b[0mmatplotlib\u001b[0m\u001b[0;34m.\u001b[0m\u001b[0mpyplot\u001b[0m \u001b[0;32mas\u001b[0m \u001b[0mplt\u001b[0m\u001b[0;34m\u001b[0m\u001b[0;34m\u001b[0m\u001b[0m\n\u001b[0m\u001b[1;32m      6\u001b[0m \u001b[0;32mfrom\u001b[0m \u001b[0msklearn\u001b[0m\u001b[0;34m.\u001b[0m\u001b[0mmodel_selection\u001b[0m \u001b[0;32mimport\u001b[0m \u001b[0mtrain_test_split\u001b[0m\u001b[0;34m\u001b[0m\u001b[0;34m\u001b[0m\u001b[0m\n\u001b[1;32m      7\u001b[0m \u001b[0;34m\u001b[0m\u001b[0m\n",
      "\u001b[0;31mModuleNotFoundError\u001b[0m: No module named 'matplotlib'"
     ]
    }
   ],
   "source": [
    "#Implement the non-parametric locally weighted regression algorithm in order to fit data points. Select appropriate dataset for your experiment and draw a graph.\n",
    "#Regression is defined as statistical method that helps us to analyze and understand the relationship between two or more variables of interest\n",
    "import pandas as pd\n",
    "import numpy as np\n",
    "import matplotlib.pyplot as plt\n",
    "from sklearn.model_selection import train_test_split\n",
    "\n",
    "tou = 0.8 #Smoothening parameter\n",
    "\n",
    "x_train = np.array(list(range(5,50)) + [7.2,9.2])\n",
    "x_train\n",
    "len(x_train)"
   ]
  },
  {
   "cell_type": "code",
   "execution_count": null,
   "id": "f95b3227",
   "metadata": {},
   "outputs": [],
   "source": [
    "x_train = x_train[:,np.newaxis] #numpy.newaxis makes the array into multiarray 1D to 2D\n",
    "x_train"
   ]
  },
  {
   "cell_type": "code",
   "execution_count": null,
   "id": "f40ca6e5",
   "metadata": {},
   "outputs": [],
   "source": [
    "y_train = np.array([1,2,1,2,1,1,3,4,5,6,1,5,12,23,65,7,8,10,8,29,24,12,14,12,10,9,7,10,24,50,19,20,30,12,24,35,12,80,20,30,12,23,23,45,23,12,12])\n",
    "print(len(y_train))\n",
    "x_test = np.array([i/10. for i in range(400)])\n",
    "x_test = x_test[:,np.newaxis]\n",
    "print(len(x_test))\n"
   ]
  },
  {
   "cell_type": "code",
   "execution_count": null,
   "id": "2e388552",
   "metadata": {},
   "outputs": [],
   "source": [
    "count = 0\n",
    "y_test = []\n",
    "for r in range(len(x_test)):\n",
    "    try:\n",
    "        wt = np.exp(-np.sum((x_train-x_test[r])**2,axis=1)/(2*tou)**2)\n",
    "        w = np.diag(wt)\n",
    "        fact1 = np.linalg.inv(x_train.T.dot(w).dot(x_train))\n",
    "        parameter = fact1.dot(x_train.T).dot(w).dot(y_train)\n",
    "        prediction = x_test[r].dot(parameter)\n",
    "        y_test.append(prediction)\n",
    "    except:\n",
    "        pass\n",
    "y_test = np.array(y_test)\n",
    "print(len(y_test))\n",
    "plt.plot(x_train.squeeze(),y_train,'o')\n",
    "plt.plot(x_test.squeeze(),y_test,'*')\n",
    "plt.show()"
   ]
  },
  {
   "cell_type": "code",
   "execution_count": null,
   "id": "948729ab",
   "metadata": {},
   "outputs": [],
   "source": []
  }
 ],
 "metadata": {
  "kernelspec": {
   "display_name": "Python 3",
   "language": "python",
   "name": "python3"
  },
  "language_info": {
   "codemirror_mode": {
    "name": "ipython",
    "version": 3
   },
   "file_extension": ".py",
   "mimetype": "text/x-python",
   "name": "python",
   "nbconvert_exporter": "python",
   "pygments_lexer": "ipython3",
   "version": "3.10.1 (v3.10.1:2cd268a3a9, Dec  6 2021, 14:28:59) [Clang 13.0.0 (clang-1300.0.29.3)]"
  },
  "vscode": {
   "interpreter": {
    "hash": "aee8b7b246df8f9039afb4144a1f6fd8d2ca17a180786b69acc140d282b71a49"
   }
  }
 },
 "nbformat": 4,
 "nbformat_minor": 5
}
