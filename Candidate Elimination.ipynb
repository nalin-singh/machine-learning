{
 "cells": [
  {
   "cell_type": "code",
   "execution_count": 106,
   "metadata": {},
   "outputs": [
    {
     "name": "stdout",
     "output_type": "stream",
     "text": [
      "['Sunny', 'Warm', 'Normal', 'Strong', 'Warm', 'Same', '1']\n",
      "['Sunny', 'Warm', 'High', 'Strong', 'Warm', 'Same', '1']\n",
      "['Rainy', 'Cold', 'High', 'Strong', 'Warm', 'Change', '0']\n",
      "['Sunny', 'Warm', 'High', 'Strong', 'Cool', 'Change', '1']\n",
      "6\n"
     ]
    }
   ],
   "source": [
    "import csv\n",
    "attr = []\n",
    "with open('datasets/enjoysport.csv','r') as csvFile:\n",
    "    reader = csv.reader(csvFile)\n",
    "    dataset = [list(line) for line in reader]\n",
    "    for row in dataset[1:]:\n",
    "        attr.append(row)\n",
    "        print(row)\n",
    "numAttr = len(attr[0])-1\n",
    "print(numAttr)"
   ]
  },
  {
   "cell_type": "code",
   "execution_count": 107,
   "metadata": {},
   "outputs": [
    {
     "name": "stdout",
     "output_type": "stream",
     "text": [
      "Specific :  ['0', '0', '0', '0', '0', '0']\n",
      "General :  ['?', '?', '?', '?', '?', '?']\n"
     ]
    }
   ],
   "source": [
    "# Initial Value of the Hypothesis\n",
    "specific = ['0']*numAttr\n",
    "general =['?']*numAttr\n",
    "print(\"Specific : \", specific)\n",
    "print(\"General : \", general)\n"
   ]
  },
  {
   "cell_type": "code",
   "execution_count": 108,
   "metadata": {},
   "outputs": [
    {
     "name": "stdout",
     "output_type": "stream",
     "text": [
      "['Sunny', 'Warm', 'Normal', 'Strong', 'Warm', 'Same']\n"
     ]
    }
   ],
   "source": [
    "for ptr in range(len(attr)):\n",
    "    if attr[ptr][numAttr]==\"1\":\n",
    "        specific = attr[ptr][0:numAttr]\n",
    "        break\n",
    "print(specific)"
   ]
  },
  {
   "cell_type": "code",
   "execution_count": 112,
   "metadata": {},
   "outputs": [
    {
     "name": "stdout",
     "output_type": "stream",
     "text": [
      "Candidate Elemination Version Space\n",
      "For positive training example no. 1 the hypothesis is S1 ['Sunny', 'Warm', '?', 'Strong', '?', '?']\n",
      "For positive training example no. 1 the hypothesis is S1 ['?', '?', '?', '?', '?', '?']\n",
      "For positive training example no. 2 the hypothesis is S2 ['Sunny', 'Warm', '?', 'Strong', '?', '?']\n",
      "For positive training example no. 2 the hypothesis is S2 ['?', '?', '?', '?', '?', '?']\n",
      "For positive training example no. 4 the hypothesis is S4 ['Sunny', 'Warm', '?', 'Strong', '?', '?']\n",
      "For positive training example no. 4 the hypothesis is S4 [['Sunny', '?', '?', '?', '?', '?'], ['?', 'Warm', '?', '?', '?', '?']]\n"
     ]
    }
   ],
   "source": [
    "print(\"Candidate Elemination Version Space\")\n",
    "temp = []\n",
    "for itr in range(len(attr)):\n",
    "    if attr[itr][numAttr] == \"1\":\n",
    "        for ptr in range(numAttr):\n",
    "            if attr[itr][ptr]!=specific[ptr]:\n",
    "                specific[ptr]='?'\n",
    "        for ptr in range(numAttr):\n",
    "            for k in range(1,len(temp)):\n",
    "                if temp[k][ptr]!='?' and temp[k][ptr]!=specific[ptr]:\n",
    "                    del temp[k]\n",
    "        print(\"For positive training example no. {0} the hypothesis is S{0}\".format(itr+1),specific)\n",
    "        if(len(temp)==0):\n",
    "            print(\"For positive training example no. {0} the hypothesis is S{0}\".format(itr+1),general)\n",
    "        else:\n",
    "            print(\"For positive training example no. {0} the hypothesis is S{0}\".format(itr+1),temp)\n",
    "    else:\n",
    "        for ptr in range(numAttr):\n",
    "            if specific[ptr]!=attr[itr][ptr] and specific[ptr]!='?':\n",
    "                general[ptr] = specific[ptr]\n",
    "                temp.append(general)\n",
    "                general = ['?']*numAttr"
   ]
  },
  {
   "cell_type": "code",
   "execution_count": 110,
   "metadata": {},
   "outputs": [
    {
     "name": "stdout",
     "output_type": "stream",
     "text": [
      "Specific Hypothesis is S4 ['Sunny', 'Warm', '?', 'Strong', '?', '?']\n",
      "General Hypothesis is G4 [['Sunny', '?', '?', '?', '?', '?'], ['?', 'Warm', '?', '?', '?', '?']]\n"
     ]
    }
   ],
   "source": [
    "print(\"Specific Hypothesis is S{0}\".format(itr+1),specific)\n",
    "print(\"General Hypothesis is G{0}\".format(itr+1),temp)"
   ]
  }
 ],
 "metadata": {
  "kernelspec": {
   "display_name": "Python 3",
   "language": "python",
   "name": "python3"
  },
  "language_info": {
   "codemirror_mode": {
    "name": "ipython",
    "version": 3
   },
   "file_extension": ".py",
   "mimetype": "text/x-python",
   "name": "python",
   "nbconvert_exporter": "python",
   "pygments_lexer": "ipython3",
   "version": "3.9.6"
  },
  "orig_nbformat": 4,
  "vscode": {
   "interpreter": {
    "hash": "31f2aee4e71d21fbe5cf8b01ff0e069b9275f58929596ceb00d14d90e3e16cd6"
   }
  }
 },
 "nbformat": 4,
 "nbformat_minor": 2
}
